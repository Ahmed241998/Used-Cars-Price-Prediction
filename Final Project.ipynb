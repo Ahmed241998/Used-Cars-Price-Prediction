{
 "cells": [
  {
   "cell_type": "markdown",
   "id": "7ae13f9d",
   "metadata": {},
   "source": [
    "# `Used Cars Price Prediction`"
   ]
  },
  {
   "cell_type": "markdown",
   "id": "2a4065c9",
   "metadata": {},
   "source": [
    "## 1. Importing Libraries & Data Understanding"
   ]
  },
  {
   "cell_type": "code",
   "execution_count": null,
   "id": "0c25acff",
   "metadata": {},
   "outputs": [],
   "source": [
    "import pandas as pd\n",
    "import numpy as np\n",
    "import plotly.express as px\n",
    "import seaborn as sns\n",
    "import matplotlib.pyplot as plt\n",
    "from sklearn.impute import KNNImputer,SimpleImputer\n",
    "from sklearn.compose import ColumnTransformer \n",
    "from sklearn.preprocessing import OneHotEncoder , StandardScaler , LabelEncoder , MinMaxScaler , RobustScaler\n",
    "from category_encoders import BinaryEncoder\n",
    "from imblearn.pipeline import make_pipeline\n",
    "from sklearn.linear_model import LinearRegression\n",
    "from sklearn.neighbors import KNeighborsRegressor\n",
    "from sklearn.preprocessing import PolynomialFeatures\n",
    "from sklearn.decomposition import PCA\n",
    "from sklearn.metrics import accuracy_score \n",
    "from sklearn.feature_selection import SelectFromModel\n",
    "from sklearn.tree import DecisionTreeRegressor\n",
    "from sklearn.ensemble import RandomForestRegressor\n",
    "from sklearn.svm import SVC\n",
    "from sklearn.metrics import confusion_matrix , ConfusionMatrixDisplay\n",
    "from sklearn.model_selection import cross_validate , train_test_split , StratifiedKFold , GridSearchCV , RandomizedSearchCV\n",
    "from sklearn import set_config\n",
    "from xgboost import XGBRegressor\n",
    "import joblib"
   ]
  },
  {
   "cell_type": "code",
   "execution_count": null,
   "id": "d7fe3e74",
   "metadata": {},
   "outputs": [],
   "source": [
    "df=pd.read_csv('vehicles.csv')"
   ]
  },
  {
   "cell_type": "code",
   "execution_count": null,
   "id": "a68daf83",
   "metadata": {},
   "outputs": [],
   "source": [
    "df.head()"
   ]
  },
  {
   "cell_type": "code",
   "execution_count": null,
   "id": "787b1dab",
   "metadata": {},
   "outputs": [],
   "source": [
    "df.shape"
   ]
  },
  {
   "cell_type": "code",
   "execution_count": null,
   "id": "8b5d7cb6",
   "metadata": {},
   "outputs": [],
   "source": [
    "df.columns"
   ]
  },
  {
   "cell_type": "code",
   "execution_count": null,
   "id": "7ebf70fb",
   "metadata": {},
   "outputs": [],
   "source": [
    "df.info()"
   ]
  },
  {
   "cell_type": "markdown",
   "id": "98ae5345",
   "metadata": {},
   "source": [
    "## 2. Data Cleaning"
   ]
  },
  {
   "cell_type": "markdown",
   "id": "ede22829",
   "metadata": {},
   "source": [
    "#### 2.1 Check Duplicates"
   ]
  },
  {
   "cell_type": "code",
   "execution_count": null,
   "id": "e26e7ba9",
   "metadata": {},
   "outputs": [],
   "source": [
    "df.drop('id',axis=1,inplace=True)\n",
    "df.duplicated().sum()"
   ]
  },
  {
   "cell_type": "markdown",
   "id": "6392ee70",
   "metadata": {},
   "source": [
    "#### 2.2 Drop Unnecessary cols"
   ]
  },
  {
   "cell_type": "code",
   "execution_count": null,
   "id": "eee8dcfa",
   "metadata": {
    "scrolled": true
   },
   "outputs": [],
   "source": [
    "df.drop(['url','region_url','VIN','county','image_url','description'],axis=1,inplace=True)"
   ]
  },
  {
   "cell_type": "markdown",
   "id": "0d94e0b7",
   "metadata": {},
   "source": [
    "#### 2.3 Check Nulls"
   ]
  },
  {
   "cell_type": "code",
   "execution_count": null,
   "id": "12040b93",
   "metadata": {},
   "outputs": [],
   "source": [
    "df.isnull().mean()*100"
   ]
  },
  {
   "cell_type": "code",
   "execution_count": null,
   "id": "edb2d899",
   "metadata": {},
   "outputs": [],
   "source": [
    "df.drop(['size'],axis=1,inplace=True)"
   ]
  },
  {
   "cell_type": "markdown",
   "id": "b4fd2a20",
   "metadata": {},
   "source": [
    "##### 2.3.2 Drop Null Values"
   ]
  },
  {
   "cell_type": "code",
   "execution_count": null,
   "id": "67614a9b",
   "metadata": {},
   "outputs": [],
   "source": [
    "df.dropna(subset=['manufacturer','year','model','fuel','odometer','title_status','transmission'],axis=0,inplace=True)"
   ]
  },
  {
   "cell_type": "code",
   "execution_count": null,
   "id": "9c9f30ed",
   "metadata": {
    "scrolled": true
   },
   "outputs": [],
   "source": [
    "df.isnull().mean()*100"
   ]
  },
  {
   "cell_type": "markdown",
   "id": "f908cd14",
   "metadata": {},
   "source": [
    "#### 2.4 check on varation for each column"
   ]
  },
  {
   "cell_type": "code",
   "execution_count": null,
   "id": "cbfd5f81",
   "metadata": {},
   "outputs": [],
   "source": [
    "for col in df.select_dtypes('object').columns :\n",
    "    print(f'{col} -- {df[col].nunique()}')"
   ]
  },
  {
   "cell_type": "code",
   "execution_count": null,
   "id": "3fdaa60f",
   "metadata": {},
   "outputs": [],
   "source": [
    "df['region'].unique()"
   ]
  },
  {
   "cell_type": "code",
   "execution_count": null,
   "id": "662f5413",
   "metadata": {},
   "outputs": [],
   "source": [
    "df['model'].unique().tolist()"
   ]
  },
  {
   "cell_type": "code",
   "execution_count": null,
   "id": "4ceeb2c6",
   "metadata": {},
   "outputs": [],
   "source": [
    "df.drop(['region','model'],axis=1,inplace=True)"
   ]
  },
  {
   "cell_type": "code",
   "execution_count": null,
   "id": "62f91a2a",
   "metadata": {},
   "outputs": [],
   "source": [
    "for col in df.select_dtypes('object').columns :\n",
    "    print(f'{col} -- {df[col].nunique()}')"
   ]
  },
  {
   "cell_type": "code",
   "execution_count": null,
   "id": "73969151",
   "metadata": {},
   "outputs": [],
   "source": [
    "df.dropna(subset=['posting_date'],axis=0,inplace=True)"
   ]
  },
  {
   "cell_type": "code",
   "execution_count": null,
   "id": "7ca10913",
   "metadata": {},
   "outputs": [],
   "source": [
    "df['posting_date'] =pd.to_datetime(df['posting_date'],utc=True)"
   ]
  },
  {
   "cell_type": "code",
   "execution_count": null,
   "id": "804c367e",
   "metadata": {},
   "outputs": [],
   "source": [
    "df['Year']=df['posting_date'].dt.year\n",
    "df['month'] = df['posting_date'].dt.month\n",
    "df['day']=df['posting_date'].dt.day"
   ]
  },
  {
   "cell_type": "code",
   "execution_count": null,
   "id": "64f01483",
   "metadata": {},
   "outputs": [],
   "source": [
    "df['Year'].unique()"
   ]
  },
  {
   "cell_type": "code",
   "execution_count": null,
   "id": "05b50637",
   "metadata": {},
   "outputs": [],
   "source": [
    "df['month'].unique()"
   ]
  },
  {
   "cell_type": "code",
   "execution_count": null,
   "id": "42c5c522",
   "metadata": {},
   "outputs": [],
   "source": [
    "df['day'].unique()"
   ]
  },
  {
   "cell_type": "code",
   "execution_count": null,
   "id": "199272fd",
   "metadata": {},
   "outputs": [],
   "source": [
    "df.drop(['posting_date','Year','month','day'],axis=1 , inplace=True)"
   ]
  },
  {
   "cell_type": "code",
   "execution_count": null,
   "id": "1ce7bc66",
   "metadata": {},
   "outputs": [],
   "source": [
    "df"
   ]
  },
  {
   "cell_type": "code",
   "execution_count": null,
   "id": "a7c662eb",
   "metadata": {
    "scrolled": true
   },
   "outputs": [],
   "source": [
    "df.info()"
   ]
  },
  {
   "cell_type": "code",
   "execution_count": null,
   "id": "f8bc7b12",
   "metadata": {},
   "outputs": [],
   "source": [
    "df['paint_color'].value_counts()"
   ]
  },
  {
   "cell_type": "code",
   "execution_count": null,
   "id": "c4197d6d",
   "metadata": {},
   "outputs": [],
   "source": [
    "px.histogram(data_frame=df,x='paint_color')"
   ]
  },
  {
   "cell_type": "code",
   "execution_count": null,
   "id": "8d96bcda",
   "metadata": {},
   "outputs": [],
   "source": [
    "df.drop('paint_color',axis=1,inplace=True)"
   ]
  },
  {
   "cell_type": "code",
   "execution_count": null,
   "id": "d378bc05",
   "metadata": {},
   "outputs": [],
   "source": [
    "df.info()"
   ]
  },
  {
   "cell_type": "markdown",
   "id": "099f6e3a",
   "metadata": {},
   "source": [
    "##### I will drop also lat and long cause they are useless if i get region and state of the car"
   ]
  },
  {
   "cell_type": "code",
   "execution_count": null,
   "id": "013d4c57",
   "metadata": {},
   "outputs": [],
   "source": [
    "df.drop(['lat','long'],axis=1,inplace=True)"
   ]
  },
  {
   "cell_type": "code",
   "execution_count": null,
   "id": "add23436",
   "metadata": {},
   "outputs": [],
   "source": [
    "df.info()"
   ]
  },
  {
   "cell_type": "markdown",
   "id": "66a9f48f",
   "metadata": {},
   "source": [
    "### Dealing with null values"
   ]
  },
  {
   "cell_type": "code",
   "execution_count": null,
   "id": "1b22d70d",
   "metadata": {},
   "outputs": [],
   "source": [
    "df['condition'].value_counts()"
   ]
  },
  {
   "cell_type": "code",
   "execution_count": null,
   "id": "efdd00a8",
   "metadata": {},
   "outputs": [],
   "source": [
    "imputer=SimpleImputer(strategy='most_frequent')\n",
    "df['condition'] = imputer.fit_transform(df[['condition']])"
   ]
  },
  {
   "cell_type": "code",
   "execution_count": null,
   "id": "eb0b8e6e",
   "metadata": {},
   "outputs": [],
   "source": [
    "df['cylinders'].value_counts()"
   ]
  },
  {
   "cell_type": "code",
   "execution_count": null,
   "id": "f35fbaf8",
   "metadata": {},
   "outputs": [],
   "source": [
    "imputer=SimpleImputer(strategy='most_frequent')\n",
    "df['cylinders'] = imputer.fit_transform(df[['cylinders']])"
   ]
  },
  {
   "cell_type": "code",
   "execution_count": null,
   "id": "6cfdb700",
   "metadata": {},
   "outputs": [],
   "source": [
    "df['drive'].value_counts()"
   ]
  },
  {
   "cell_type": "code",
   "execution_count": null,
   "id": "6ec0569b",
   "metadata": {},
   "outputs": [],
   "source": [
    "df['type'].value_counts()"
   ]
  },
  {
   "cell_type": "markdown",
   "id": "60e43b04",
   "metadata": {},
   "source": [
    "##### FWD is a drivetrain configuration where the engine's power is transmitted to the front wheels of the vehicle, pulling the vehicle forward. This two-wheel drive setup is commonly found in compact cars, sedans, and smaller SUVs, with the engine sitting just above the wheels it’s powering. FWD vehicles offer several benefits that make them an attractive choice for many buyers.\n",
    "###### All-Wheel Drive (AWD or 4WD) is a drivetrain configuration where power is distributed to all four wheels of the vehicle. AWD is commonly found in SUVs and crossovers, but even sedans are now offering the option for better traction when road conditions are suboptimal."
   ]
  },
  {
   "cell_type": "code",
   "execution_count": null,
   "id": "db7099c9",
   "metadata": {},
   "outputs": [],
   "source": [
    "df.reset_index(drop=True,inplace=True)\n",
    "for i in df[ (df['type']  == 'sedan')  ]['drive'].index :\n",
    "    df.iat[i,df.columns.to_list().index('drive')] = 'fwd'"
   ]
  },
  {
   "cell_type": "code",
   "execution_count": null,
   "id": "b1a7c412",
   "metadata": {},
   "outputs": [],
   "source": [
    "imputer= SimpleImputer(strategy='constant',fill_value='4wd')\n",
    "df['drive'] = imputer.fit_transform(df[['drive']])"
   ]
  },
  {
   "cell_type": "code",
   "execution_count": null,
   "id": "f545b2e6",
   "metadata": {},
   "outputs": [],
   "source": [
    "df.info()"
   ]
  },
  {
   "cell_type": "code",
   "execution_count": null,
   "id": "81aa6815",
   "metadata": {},
   "outputs": [],
   "source": [
    "imputer =SimpleImputer(strategy='most_frequent')\n",
    "df['type'] = imputer.fit_transform(df[['type']])"
   ]
  },
  {
   "cell_type": "code",
   "execution_count": null,
   "id": "3a58176b",
   "metadata": {},
   "outputs": [],
   "source": [
    "df['year'] = pd.to_numeric(df['year'],downcast='integer')\n",
    "df['odometer'] = pd.to_numeric(df['odometer'],downcast='integer')"
   ]
  },
  {
   "cell_type": "markdown",
   "id": "01e91e8e",
   "metadata": {},
   "source": [
    "## 3. EDA"
   ]
  },
  {
   "cell_type": "markdown",
   "id": "e8d06128",
   "metadata": {},
   "source": [
    "#### 3.1 The distribution for each column"
   ]
  },
  {
   "cell_type": "markdown",
   "id": "c3c8c5d2",
   "metadata": {},
   "source": [
    "##### 3.1.1 let's start with price "
   ]
  },
  {
   "cell_type": "markdown",
   "id": "b6869f5f",
   "metadata": {},
   "source": [
    "### As we can see from <a href=\"https://www.motor1.com/features/308149/most-expensive-new-cars-ever/\">This Website</a> that the most expensive car around 30 million so we can consider thar more than 200,000 is outliers\n",
    "### and we can see from <a href=\"https://www.hotcars.com/world-cheapest-new-cars/#minghong-s1-pro---1-265\">This Website</a> that the cheapest car around 975 so we can consider that less than 900 is outliers also"
   ]
  },
  {
   "cell_type": "code",
   "execution_count": null,
   "id": "41eedbfd",
   "metadata": {},
   "outputs": [],
   "source": [
    "df.drop(df[(df['price'] >200000) | (df['price'] <900) ].index,axis=0,inplace=True)"
   ]
  },
  {
   "cell_type": "code",
   "execution_count": null,
   "id": "acd3ee8c",
   "metadata": {},
   "outputs": [],
   "source": [
    "px.box(data_frame=df,x='price')"
   ]
  },
  {
   "cell_type": "markdown",
   "id": "481c7bb8",
   "metadata": {},
   "source": [
    "##### 3.1.1 year "
   ]
  },
  {
   "cell_type": "code",
   "execution_count": null,
   "id": "5fd19e91",
   "metadata": {},
   "outputs": [],
   "source": [
    "px.histogram(data_frame = df, x= 'year')"
   ]
  },
  {
   "cell_type": "code",
   "execution_count": null,
   "id": "4b6f3709",
   "metadata": {},
   "outputs": [],
   "source": [
    "df.drop(df[df['year'] < 1960].index,axis=0,inplace=True)"
   ]
  },
  {
   "cell_type": "code",
   "execution_count": null,
   "id": "7bafd1a3",
   "metadata": {},
   "outputs": [],
   "source": [
    "px.histogram(data_frame = df, x= 'year',nbins=61)"
   ]
  },
  {
   "cell_type": "markdown",
   "id": "00ced161",
   "metadata": {},
   "source": [
    "##### 3.1.3 Odometer"
   ]
  },
  {
   "cell_type": "code",
   "execution_count": null,
   "id": "2932380d",
   "metadata": {},
   "outputs": [],
   "source": [
    "px.box(data_frame=df,x='odometer')"
   ]
  },
  {
   "cell_type": "markdown",
   "id": "78049bbd",
   "metadata": {},
   "source": [
    "### As we can see from <a href=\"https://www.caranddriver.com/research/a32758625/how-many-miles-does-a-car-last/\">This Website</a> Standard cars in this day and age are expected to keep running up to 200,000 miles, while cars with electric engines are expected to last for up to 300,000 miles."
   ]
  },
  {
   "cell_type": "code",
   "execution_count": null,
   "id": "6af64c73",
   "metadata": {},
   "outputs": [],
   "source": [
    "df.drop(df[df['odometer'] > 300000].index,axis=0,inplace=True)"
   ]
  },
  {
   "cell_type": "code",
   "execution_count": null,
   "id": "467dc9d0",
   "metadata": {},
   "outputs": [],
   "source": [
    "px.box(data_frame=df,x='odometer')"
   ]
  },
  {
   "cell_type": "markdown",
   "id": "cdf82578",
   "metadata": {},
   "source": [
    "### As we can see from <a href=\"https://newyork.craigslist.org/search/cta?max_auto_miles=1&min_auto_miles=0#search=1~gallery~0~0\">This Website</a> that when odometer is equal to zero it is when the odometer is not on the website so when odometer is equal to zero will be dropped"
   ]
  },
  {
   "cell_type": "code",
   "execution_count": null,
   "id": "5a871995",
   "metadata": {},
   "outputs": [],
   "source": [
    "df.drop(df[df['odometer'] ==0].index,axis=0,inplace=True)"
   ]
  },
  {
   "cell_type": "code",
   "execution_count": null,
   "id": "69859d5c",
   "metadata": {},
   "outputs": [],
   "source": [
    "px.box(data_frame=df,x='odometer')"
   ]
  },
  {
   "cell_type": "markdown",
   "id": "6dde7f85",
   "metadata": {},
   "source": [
    "##### 3.1.4 Manufacturer"
   ]
  },
  {
   "cell_type": "code",
   "execution_count": null,
   "id": "cb8f1186",
   "metadata": {},
   "outputs": [],
   "source": [
    "px.histogram(data_frame=df,x='manufacturer')"
   ]
  },
  {
   "cell_type": "markdown",
   "id": "4e7063ca",
   "metadata": {},
   "source": [
    "##### 3.1.5 Condition"
   ]
  },
  {
   "cell_type": "code",
   "execution_count": null,
   "id": "6c3dcd2e",
   "metadata": {},
   "outputs": [],
   "source": [
    "px.histogram(data_frame=df,x='condition')"
   ]
  },
  {
   "cell_type": "code",
   "execution_count": null,
   "id": "a9c0cb6f",
   "metadata": {},
   "outputs": [],
   "source": [
    "df.reset_index(drop=True,inplace=True)\n",
    "for i in df[df['condition'] == 'new'].index :\n",
    "    df.iat[i,df.columns.to_list().index('condition')] = 'like new'"
   ]
  },
  {
   "cell_type": "code",
   "execution_count": null,
   "id": "26c4bdcd",
   "metadata": {},
   "outputs": [],
   "source": [
    "df.reset_index(drop=True,inplace=True)\n",
    "for i in df[df['condition'] == 'salvage'].index :\n",
    "    df.iat[i,df.columns.to_list().index('condition')] = 'fair'"
   ]
  },
  {
   "cell_type": "code",
   "execution_count": null,
   "id": "8b3c99e0",
   "metadata": {},
   "outputs": [],
   "source": [
    "px.histogram(data_frame=df,x='condition')"
   ]
  },
  {
   "cell_type": "markdown",
   "id": "798aad68",
   "metadata": {},
   "source": [
    "##### 3.1.5 cylinders"
   ]
  },
  {
   "cell_type": "code",
   "execution_count": null,
   "id": "d34231f9",
   "metadata": {},
   "outputs": [],
   "source": [
    "df['cylinders'].value_counts()"
   ]
  },
  {
   "cell_type": "code",
   "execution_count": null,
   "id": "592bbdd0",
   "metadata": {},
   "outputs": [],
   "source": [
    "px.histogram(data_frame=df,x='cylinders',text_auto=True)"
   ]
  },
  {
   "cell_type": "markdown",
   "id": "37ce5647",
   "metadata": {},
   "source": [
    "##### 3.1.6 Fuel"
   ]
  },
  {
   "cell_type": "code",
   "execution_count": null,
   "id": "230d0cae",
   "metadata": {},
   "outputs": [],
   "source": [
    "df['fuel'].value_counts()"
   ]
  },
  {
   "cell_type": "code",
   "execution_count": null,
   "id": "761e444e",
   "metadata": {},
   "outputs": [],
   "source": [
    "px.histogram(data_frame=df,x='fuel',text_auto=True)"
   ]
  },
  {
   "cell_type": "markdown",
   "id": "59885f30",
   "metadata": {},
   "source": [
    "##### 3.1.7 Title Status"
   ]
  },
  {
   "cell_type": "code",
   "execution_count": null,
   "id": "57305a62",
   "metadata": {
    "scrolled": false
   },
   "outputs": [],
   "source": [
    "df['title_status'].value_counts()"
   ]
  },
  {
   "cell_type": "markdown",
   "id": "135bddc8",
   "metadata": {},
   "source": [
    "###### 3.1.7.1  Meaning of every columns value \n",
    "<li>Clean : A clean title means that there are no liens against the vehicle, but it means more than that.</li>\n",
    "<li>lien : When a vehicle suffers damage, the insurance company evaluates the cost of repairing the damage and compares it to the value of the vehicle. Sometimes the damage to the vehicle costs more to repair than its value or more than a set percentage of the value. This is what we mean when we say that a vehicle was “totaled.” The insurance will only pay up to the value of the vehicle, not the amount needed to repair it. Once the owner has received payment, the vehicle becomes the property of the insurance company. After deeming a car a total loss, the insurance company usually reports it to the local DMV (Department of Motor Vehicles). Although the process differs in some states, this usually results in the car getting a salvage title. In addition to having no liens, a vehicle with a clean title also has no salvage title.</li>\n",
    "<li>salvage : Many people believe that a totaled car has suffered damage beyond repair. In reality, the salvage classification depends on the cost of repairs in comparison to the vehicle’s value. Some cars suffer so much damage that they are “unrepairable”. As such, they can only legally be sold for parts or as scrap. A salvage vehicle is a good choice for some people, but not for everyone. These salvage cars do not have the higher prices of cars with a clean title. If you have access to cheap repairs or can do them yourself, you probably can restore the vehicle to drivable condition. Once you repair the vehicle, you may apply for a new “rebuilt” title. However, the vehicle will never have a clean title.</li>\n",
    "<li>parts_only : “parts only” it’s likely the seller simply doesn’t think it can be repaired, but it’s possible that the car was issued a junk title that cannot legally be driven ever again.\n",
    "<li>missing : the title status is certificate is missing from the seller</li>"
   ]
  },
  {
   "cell_type": "code",
   "execution_count": null,
   "id": "5d1d2e72",
   "metadata": {},
   "outputs": [],
   "source": [
    "df.groupby('title_status').mean()"
   ]
  },
  {
   "cell_type": "code",
   "execution_count": null,
   "id": "bd2a6d96",
   "metadata": {},
   "outputs": [],
   "source": [
    "px.histogram(data_frame=df,x='title_status')"
   ]
  },
  {
   "cell_type": "markdown",
   "id": "1371ad95",
   "metadata": {},
   "source": [
    "##### 3.1.8 Transmission"
   ]
  },
  {
   "cell_type": "code",
   "execution_count": null,
   "id": "4e3c6292",
   "metadata": {},
   "outputs": [],
   "source": [
    "df['transmission'].value_counts()"
   ]
  },
  {
   "cell_type": "code",
   "execution_count": null,
   "id": "edc6ccd1",
   "metadata": {},
   "outputs": [],
   "source": [
    "px.histogram(data_frame=df,x='transmission')"
   ]
  },
  {
   "cell_type": "markdown",
   "id": "64e7156f",
   "metadata": {},
   "source": [
    "###### other : that means that the custome doesnot say specifically either automatic or manual but say like CVT  (Continuously variable transmission) it a type from automatic transmission or didnot mention the  transmission type at all"
   ]
  },
  {
   "cell_type": "markdown",
   "id": "35842b8d",
   "metadata": {},
   "source": [
    "##### 3.1.9 Drive"
   ]
  },
  {
   "cell_type": "code",
   "execution_count": null,
   "id": "75e2d7c4",
   "metadata": {},
   "outputs": [],
   "source": [
    "df['drive'].value_counts()"
   ]
  },
  {
   "cell_type": "code",
   "execution_count": null,
   "id": "a5b33664",
   "metadata": {},
   "outputs": [],
   "source": [
    "px.histogram(data_frame=df,x='drive')"
   ]
  },
  {
   "cell_type": "markdown",
   "id": "14f1c70c",
   "metadata": {},
   "source": [
    "##### 3.1.10 Type"
   ]
  },
  {
   "cell_type": "code",
   "execution_count": null,
   "id": "211c418e",
   "metadata": {},
   "outputs": [],
   "source": [
    "df['type'].value_counts()"
   ]
  },
  {
   "cell_type": "code",
   "execution_count": null,
   "id": "b4ebc300",
   "metadata": {},
   "outputs": [],
   "source": [
    "px.histogram(data_frame=df,x='type')"
   ]
  },
  {
   "cell_type": "markdown",
   "id": "a687ed84",
   "metadata": {},
   "source": [
    "##### 3.1.11 State"
   ]
  },
  {
   "cell_type": "code",
   "execution_count": null,
   "id": "2e28e5f8",
   "metadata": {},
   "outputs": [],
   "source": [
    "df['state'].value_counts()"
   ]
  },
  {
   "cell_type": "code",
   "execution_count": null,
   "id": "bfc3e78c",
   "metadata": {},
   "outputs": [],
   "source": [
    "px.histogram(data_frame=df,x='state')"
   ]
  },
  {
   "cell_type": "code",
   "execution_count": null,
   "id": "5b479973",
   "metadata": {},
   "outputs": [],
   "source": [
    "df.drop('state',axis=1,inplace=True)"
   ]
  },
  {
   "cell_type": "markdown",
   "id": "e540c107",
   "metadata": {},
   "source": [
    "## 4.Modeling"
   ]
  },
  {
   "cell_type": "code",
   "execution_count": null,
   "id": "e97fc541",
   "metadata": {},
   "outputs": [],
   "source": [
    "x , y = df.drop(['price'] , axis = 1) , df['price']"
   ]
  },
  {
   "cell_type": "code",
   "execution_count": null,
   "id": "4df6eb5a",
   "metadata": {},
   "outputs": [],
   "source": [
    "for col in x.select_dtypes('object').columns :\n",
    "    \n",
    "    print(f'{col} -- {x[col].nunique()}')"
   ]
  },
  {
   "cell_type": "code",
   "execution_count": null,
   "id": "d2d95fc2",
   "metadata": {},
   "outputs": [],
   "source": [
    "small_cat_df = make_pipeline(OneHotEncoder(sparse=False , drop = 'first'))\n",
    "big_cat_df = make_pipeline(BinaryEncoder())"
   ]
  },
  {
   "cell_type": "code",
   "execution_count": null,
   "id": "76e5c486",
   "metadata": {},
   "outputs": [],
   "source": [
    "Transform = ColumnTransformer(transformers=[\n",
    "    ('small_cat' ,small_cat_df ,['condition','cylinders','fuel','title_status','transmission','drive']  ),\n",
    "    ('big_cat' , big_cat_df , ['manufacturer','type'])\n",
    "] , remainder='passthrough')"
   ]
  },
  {
   "cell_type": "markdown",
   "id": "37855672",
   "metadata": {},
   "source": [
    "##### 4.1 Linear Regression"
   ]
  },
  {
   "cell_type": "code",
   "execution_count": null,
   "id": "360d90f3",
   "metadata": {
    "scrolled": true
   },
   "outputs": [],
   "source": [
    "LR = make_pipeline(Transform ,\n",
    "                   PolynomialFeatures(degree=1),\n",
    "                  StandardScaler(),\n",
    "                  LinearRegression(n_jobs=10))"
   ]
  },
  {
   "cell_type": "code",
   "execution_count": null,
   "id": "88f3ecc0",
   "metadata": {},
   "outputs": [],
   "source": [
    "scores = cross_validate(estimator=LR , X = x , y = y , scoring='r2' , return_train_score=True,cv = 5)"
   ]
  },
  {
   "cell_type": "code",
   "execution_count": null,
   "id": "c7c58feb",
   "metadata": {},
   "outputs": [],
   "source": [
    "scores['train_score'].mean()"
   ]
  },
  {
   "cell_type": "code",
   "execution_count": null,
   "id": "fd3cd101",
   "metadata": {},
   "outputs": [],
   "source": [
    "scores['test_score'].mean()"
   ]
  },
  {
   "cell_type": "markdown",
   "id": "1aef58a2",
   "metadata": {},
   "source": [
    "##### 4.2 DecisionTree"
   ]
  },
  {
   "cell_type": "code",
   "execution_count": null,
   "id": "807a8df1",
   "metadata": {},
   "outputs": [],
   "source": [
    "DT = make_pipeline(Transform ,\n",
    "                   PolynomialFeatures(degree=1),\n",
    "                  StandardScaler(),\n",
    "                  DecisionTreeRegressor(min_samples_leaf=5,splitter='best',min_samples_split=10))"
   ]
  },
  {
   "cell_type": "code",
   "execution_count": null,
   "id": "242a4e56",
   "metadata": {},
   "outputs": [],
   "source": [
    "DT_params = [\n",
    "    {\n",
    "        'decisiontreeregressor__max_depth' : [15,16,17],\n",
    "    }\n",
    "]"
   ]
  },
  {
   "cell_type": "code",
   "execution_count": null,
   "id": "b3259e4c",
   "metadata": {},
   "outputs": [],
   "source": [
    "DTR = GridSearchCV(estimator=DT , param_grid=DT_params , scoring='r2' , \n",
    "                        cv = 5 , return_train_score=True)"
   ]
  },
  {
   "cell_type": "code",
   "execution_count": null,
   "id": "52c3b227",
   "metadata": {},
   "outputs": [],
   "source": [
    "DTR.fit(x , y)"
   ]
  },
  {
   "cell_type": "code",
   "execution_count": null,
   "id": "84cef51c",
   "metadata": {
    "scrolled": true
   },
   "outputs": [],
   "source": [
    "DTR.best_estimator_"
   ]
  },
  {
   "cell_type": "code",
   "execution_count": null,
   "id": "f51819de",
   "metadata": {
    "scrolled": true
   },
   "outputs": [],
   "source": [
    "DTR.best_score_"
   ]
  },
  {
   "cell_type": "code",
   "execution_count": null,
   "id": "290cce4e",
   "metadata": {
    "scrolled": true
   },
   "outputs": [],
   "source": [
    "DTR.cv_results_['mean_train_score']"
   ]
  },
  {
   "cell_type": "code",
   "execution_count": null,
   "id": "5932e847",
   "metadata": {
    "scrolled": false
   },
   "outputs": [],
   "source": [
    "DTR.cv_results_['mean_test_score']"
   ]
  },
  {
   "cell_type": "markdown",
   "id": "ac44de85",
   "metadata": {},
   "source": [
    "##### 4.3 RandomForest"
   ]
  },
  {
   "cell_type": "code",
   "execution_count": null,
   "id": "addc9f24",
   "metadata": {},
   "outputs": [],
   "source": [
    "RF = make_pipeline(Transform ,\n",
    "                   PolynomialFeatures(degree=1),\n",
    "                  StandardScaler(),\n",
    "                  RandomForestRegressor(max_depth=14,min_samples_split=7,min_samples_leaf=3))"
   ]
  },
  {
   "cell_type": "code",
   "execution_count": null,
   "id": "8cacb99f",
   "metadata": {},
   "outputs": [],
   "source": [
    "scores = cross_validate(estimator=RF , X = x , y = y , scoring='r2' , return_train_score=True,cv = 5)"
   ]
  },
  {
   "cell_type": "code",
   "execution_count": null,
   "id": "527d0776",
   "metadata": {},
   "outputs": [],
   "source": [
    "scores['train_score'].mean()"
   ]
  },
  {
   "cell_type": "code",
   "execution_count": null,
   "id": "7eb94548",
   "metadata": {},
   "outputs": [],
   "source": [
    "scores['test_score'].mean()"
   ]
  },
  {
   "cell_type": "markdown",
   "id": "32c22401",
   "metadata": {},
   "source": [
    "#### 4.4 XGBoost"
   ]
  },
  {
   "cell_type": "code",
   "execution_count": null,
   "id": "898044ff",
   "metadata": {},
   "outputs": [],
   "source": [
    "XGB = make_pipeline(Transform ,\n",
    "                   PolynomialFeatures(degree=1),\n",
    "                  StandardScaler(),\n",
    "                  XGBRegressor())"
   ]
  },
  {
   "cell_type": "code",
   "execution_count": null,
   "id": "dbf059c0",
   "metadata": {},
   "outputs": [],
   "source": [
    "scores = cross_validate(estimator=XGB , X = x , y = y , scoring='r2' , return_train_score=True,cv = 5)"
   ]
  },
  {
   "cell_type": "code",
   "execution_count": null,
   "id": "6c61ec1d",
   "metadata": {},
   "outputs": [],
   "source": [
    "scores['train_score'].mean()"
   ]
  },
  {
   "cell_type": "code",
   "execution_count": null,
   "id": "c2ce76a7",
   "metadata": {
    "scrolled": true
   },
   "outputs": [],
   "source": [
    "scores['test_score'].mean()"
   ]
  },
  {
   "cell_type": "code",
   "execution_count": null,
   "id": "bcd7df24",
   "metadata": {},
   "outputs": [],
   "source": [
    "XGB.fit(x,y)"
   ]
  },
  {
   "cell_type": "code",
   "execution_count": null,
   "id": "04f65544",
   "metadata": {},
   "outputs": [],
   "source": [
    "XGB.predict(pd.DataFrame(data=[[2014,'gmc','good','8 cylinders','gas',57923,'clean','other','4wd','pickup']],columns=df.columns[1:]))[0]"
   ]
  },
  {
   "cell_type": "code",
   "execution_count": null,
   "id": "5deecf92",
   "metadata": {},
   "outputs": [],
   "source": [
    "joblib.dump(XGB,'XGB')"
   ]
  },
  {
   "cell_type": "code",
   "execution_count": null,
   "id": "672a003f",
   "metadata": {},
   "outputs": [],
   "source": [
    "df.to_csv('Cleaned_Vehicles_Data')"
   ]
  }
 ],
 "metadata": {
  "kernelspec": {
   "display_name": "Python 3 (ipykernel)",
   "language": "python",
   "name": "python3"
  },
  "language_info": {
   "codemirror_mode": {
    "name": "ipython",
    "version": 3
   },
   "file_extension": ".py",
   "mimetype": "text/x-python",
   "name": "python",
   "nbconvert_exporter": "python",
   "pygments_lexer": "ipython3",
   "version": "3.9.13"
  }
 },
 "nbformat": 4,
 "nbformat_minor": 5
}
